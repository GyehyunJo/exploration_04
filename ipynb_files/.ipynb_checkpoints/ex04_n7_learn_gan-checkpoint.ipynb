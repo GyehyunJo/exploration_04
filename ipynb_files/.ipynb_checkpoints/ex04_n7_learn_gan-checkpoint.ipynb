{
 "cells": [
  {
   "cell_type": "markdown",
   "id": "ba3d3656",
   "metadata": {},
   "source": [
    "# 7-1. 들어가며 | 5분"
   ]
  }
 ],
 "metadata": {
  "kernelspec": {
   "display_name": "Python 3 (ipykernel)",
   "language": "python",
   "name": "python3"
  },
  "language_info": {
   "codemirror_mode": {
    "name": "ipython",
    "version": 3
   },
   "file_extension": ".py",
   "mimetype": "text/x-python",
   "name": "python",
   "nbconvert_exporter": "python",
   "pygments_lexer": "ipython3",
   "version": "3.9.7"
  }
 },
 "nbformat": 4,
 "nbformat_minor": 5
}
