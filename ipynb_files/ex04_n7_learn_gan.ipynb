{
 "cells": [
  {
   "cell_type": "markdown",
   "id": "bb14a67d",
   "metadata": {},
   "source": [
    "# 7-1. 들어가며 | 5분"
   ]
  },
  {
   "cell_type": "markdown",
   "id": "07edc00c",
   "metadata": {},
   "source": [
    "## 학습 전제\n",
    "- Convolution의 padding, stride 등의 기본 개념을 알고 있다.\n",
    "- 교차 엔트로피(Cross Entropy) 등의 손실 함수, 최적화 함수 등 딥러닝의 기본적인 학습 알고리즘을 알고 있다.\n",
    "- 텐서플로우를 활용해 신경망을 학습시키는 코드를 다뤄본 적이 있다.\n",
    "- 간단한 판별 모델링(분류, 회귀 등)의 개념을 알고, 실습해 본 적이 있다.\n",
    "\n",
    "## 학습 내용\n",
    "- 2.없던 데이터를 만들어낸다, 생성 모델링\n",
    "    - 생성 모델링이 무엇인지 알아보고, 생성 모델링 기법에 무엇이 있는지 알아봅니다.\n",
    "- 2~5.여러 가지 생성 모델링 기법과 친해지기\n",
    "    - 여러가지 생성 모델링 중 Pix2Pix, CycleGAN, Neural Style Transfer에 대해서 알아봅니다.\n",
    "- 6~7.패션을 디자인하려면? 먼저 패션을 배워야지!\n",
    "    - Fashion MNIST 데이터셋을 알아보고, 데이터를 전처리하는 과정을 코드로 구현합니다.\n",
    "- 8~10.그림을 만들어내는 화가 생성자(Generator), 그리고 평가하는 비평가 판별자(Discriminator)\n",
    "    - GAN(Generative Adversarial Network) 모델의 구조를 알아보고, 코드를 통해 생성자와 판별자를 구현합니다.\n",
    "- 11~13.생성 모델이 똑똑해지기 위한 기나긴 여정\n",
    "    - 모델을 학습하기 위한 코드를 구현하고, 생성된 결과물을 확인합니다.\n",
    "\n",
    "## 학습 목표\n",
    "- 생성 모델링 개념을 이해하며 판별 모델링과의 차이 알 수 있습니다.\n",
    "- Pix2Pix, CycleGAN 등의 이미지와 관련된 다양한 생성 모델링과 사례를 알 수 있습니다.\n",
    "- Fashion MNIST 데이터셋의 의미를 알 수 있습니다.\n",
    "- 생성적 적대 신경망(GAN)의 구조와 원리를 이해할 수 있습니다.\n",
    "- Tensorflow로 짠 DCGAN 학습 코드를 익히고 응용할 수 있습니다."
   ]
  },
  {
   "cell_type": "markdown",
   "id": "9e3e8291",
   "metadata": {},
   "source": [
    "# 7-2. 없던 데이터를 만들어낸다, 생성 모델링 | 20분"
   ]
  },
  {
   "cell_type": "markdown",
   "id": "bf86f2d7",
   "metadata": {},
   "source": [
    "- 판별 모델 : 입력된 데이터셋을 특정 기준에 따라 분류하거나, 특정 값을 맞히는 모델\n",
    "- 생성 모델 : 학습한 데이터셋과 비슷하면서도 기존에는 없던 새로운 데이터셋을 생성하는 모델로 정리할 수 있습니다."
   ]
  },
  {
   "cell_type": "markdown",
   "id": "41804c47",
   "metadata": {},
   "source": [
    "# 7-3. 여러 가지 생성 모델링 기법과 친해지기 (1) Pix2Pix | 10분\n"
   ]
  },
  {
   "cell_type": "code",
   "execution_count": null,
   "id": "d80daf58",
   "metadata": {},
   "outputs": [],
   "source": []
  },
  {
   "cell_type": "markdown",
   "id": "f6dcef07",
   "metadata": {},
   "source": [
    "# 7-4. 여러 가지 생성 모델링 기법과 친해지기 (2) CycleGAN | 10분\n"
   ]
  },
  {
   "cell_type": "markdown",
   "id": "56b1215d",
   "metadata": {},
   "source": [
    "# 7-5. 여러 가지 생성 모델링 기법과 친해지기 (3) Neural Style Transfer | 5분"
   ]
  },
  {
   "cell_type": "markdown",
   "id": "67313897",
   "metadata": {},
   "source": [
    "# 7-6. 패션을 디자인하려면? 먼저 패션을 배워야지! (1) | 15분\n"
   ]
  },
  {
   "cell_type": "markdown",
   "id": "67e4584a",
   "metadata": {},
   "source": [
    "# 7-7. 패션을 디자인하려면? 먼저 패션을 배워야지! (2) 코드로 살펴보기 | 20분\n"
   ]
  },
  {
   "cell_type": "markdown",
   "id": "093b4167",
   "metadata": {},
   "source": [
    "# 7-8. 그림을 만들어내는 화가 생성자, 그리고 평가하는 비평가 판별자 (1) GAN 이해하기 | 15분\n"
   ]
  },
  {
   "cell_type": "markdown",
   "id": "800766f1",
   "metadata": {},
   "source": [
    "# 7-9. 그림을 만들어내는 화가 생성자, 그리고 평가하는 비평가 판별자 (2) 생성자 구현하기 | 20분\n"
   ]
  },
  {
   "cell_type": "markdown",
   "id": "6d2ebc14",
   "metadata": {},
   "source": [
    "# 7-10. 그림을 만들어내는 화가 생성자, 그리고 평가하는 비평가 판별자 (3) 판별자 구현하기 | 10분\n"
   ]
  },
  {
   "cell_type": "markdown",
   "id": "f62062f6",
   "metadata": {},
   "source": [
    "# 7-11. 생성 모델이 똑똑해지기 위한 기나긴 여정 (1) 손실함수와 최적화 함수 | 20분\n"
   ]
  },
  {
   "cell_type": "markdown",
   "id": "0cf5d243",
   "metadata": {},
   "source": [
    "# 7-12. 생성 모델이 똑똑해지기 위한 기나긴 여정 (2) 훈련과정 설계 | 40분\n"
   ]
  },
  {
   "cell_type": "markdown",
   "id": "8cf9eaa6",
   "metadata": {},
   "source": [
    "# 7-13. 생성 모델이 똑똑해지기 위한 기나긴 여정 (3) 학습 시키기 | 30분"
   ]
  },
  {
   "cell_type": "code",
   "execution_count": null,
   "id": "d2ac073f",
   "metadata": {},
   "outputs": [],
   "source": []
  }
 ],
 "metadata": {
  "kernelspec": {
   "display_name": "Python 3 (ipykernel)",
   "language": "python",
   "name": "python3"
  },
  "language_info": {
   "codemirror_mode": {
    "name": "ipython",
    "version": 3
   },
   "file_extension": ".py",
   "mimetype": "text/x-python",
   "name": "python",
   "nbconvert_exporter": "python",
   "pygments_lexer": "ipython3",
   "version": "3.9.7"
  }
 },
 "nbformat": 4,
 "nbformat_minor": 5
}
